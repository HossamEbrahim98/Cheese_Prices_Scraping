{
 "cells": [
  {
   "cell_type": "code",
   "execution_count": 1,
   "id": "f51bf34f-4f4d-4e44-9e77-8ce6ba5b8081",
   "metadata": {},
   "outputs": [],
   "source": [
    "from selenium import webdriver \n",
    "import time\n",
    "browser = webdriver.Firefox()\n",
    "url = \"https://www.amazon.eg/s?k=%D8%AC%D8%A8%D9%86%D8%A9+%D9%85%D8%AB%D9%84%D8%AB%D8%A7%D8%AA&ref=nb_sb_noss\"\n",
    "browser.get(url)\n",
    "time.sleep(3)\n",
    "# browser.save_screenshot(\"1.png\")\n",
    "browser.execute_script('window.scrollBy(0, 450)')\n",
    "time.sleep(3)\n",
    "# browser.save_screenshot(\"2.png\")"
   ]
  },
  {
   "cell_type": "code",
   "execution_count": 2,
   "id": "8435f006-b8e8-4464-980f-a7ded60541d6",
   "metadata": {},
   "outputs": [],
   "source": [
    "browser = webdriver.Firefox()\n",
    "url = \"https://www.carrefouregypt.com/mafegy/ar/v4/search?keyword=%u062C%u0628%u0646%u0629%20%u0645%u062B%u0644%u062B%u0627%u062A\"\n",
    "browser.get(url)\n",
    "browser.execute_script('window.scrollBy(0, 200)')\n",
    "time.sleep(3)\n",
    "# browser.save_screenshot(\"3.png\")\n",
    "browser.execute_script('window.scrollBy(0, 300)')\n",
    "time.sleep(3)\n",
    "# browser.save_screenshot(\"4.png\")\n",
    "browser.execute_script('window.scrollBy(0, 370)')\n",
    "time.sleep(3)\n",
    "# browser.save_screenshot(\"5.png\")\n",
    "browser.execute_script('window.scrollBy(0, 380)')\n",
    "time.sleep(3)\n",
    "# browser.save_screenshot(\"6.png\")\n",
    "browser.execute_script('window.scrollBy(0, 390)')\n",
    "time.sleep(3)\n",
    "# browser.save_screenshot(\"7.png\")\n",
    "browser.execute_script('window.scrollBy(0, 390)')\n",
    "time.sleep(3)\n",
    "# browser.save_screenshot(\"8.png\")\n",
    "browser.execute_script('window.scrollBy(0, 390)')\n",
    "time.sleep(3)\n",
    "# browser.save_screenshot(\"9.png\")"
   ]
  },
  {
   "cell_type": "code",
   "execution_count": null,
   "id": "cc5e9732-9fab-469e-b6ba-8b6c3bd98e79",
   "metadata": {},
   "outputs": [],
   "source": []
  }
 ],
 "metadata": {
  "kernelspec": {
   "display_name": "Python 3",
   "language": "python",
   "name": "python3"
  },
  "language_info": {
   "codemirror_mode": {
    "name": "ipython",
    "version": 3
   },
   "file_extension": ".py",
   "mimetype": "text/x-python",
   "name": "python",
   "nbconvert_exporter": "python",
   "pygments_lexer": "ipython3",
   "version": "3.8.8"
  }
 },
 "nbformat": 4,
 "nbformat_minor": 5
}
