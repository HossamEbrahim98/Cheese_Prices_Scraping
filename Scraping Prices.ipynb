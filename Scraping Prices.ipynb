{
 "cells": [
  {
   "cell_type": "code",
   "execution_count": 1,
   "id": "641bcffb-c1e8-4829-b703-cad726b1bb2f",
   "metadata": {},
   "outputs": [],
   "source": [
    "import requests\n",
    "from bs4 import BeautifulSoup"
   ]
  },
  {
   "cell_type": "markdown",
   "id": "77a0f27e-e5fc-42d7-8883-1a82c23170c4",
   "metadata": {},
   "source": [
    "## Getting HTML code of the {Kan Bkam} website"
   ]
  },
  {
   "cell_type": "code",
   "execution_count": 22,
   "id": "7b9fbb97-6c86-48b3-af55-b4aa0f2f7b64",
   "metadata": {},
   "outputs": [],
   "source": [
    "url = \"https://supermarket.kanbkam.com/eg/ar/search/l?q=%D8%AC%D8%A8%D9%86%D8%A9+%D9%85%D8%AB%D9%84%D8%AB%D8%A7%D8%AA\"\n",
    "page = requests.get(url).text\n",
    "soup = BeautifulSoup(page,\"html.parser\")"
   ]
  },
  {
   "cell_type": "markdown",
   "id": "3222bdd5-e44e-4bf4-a5c5-bd2c495eb667",
   "metadata": {},
   "source": [
    "## Getting Name & Price  of Product using tags"
   ]
  },
  {
   "cell_type": "code",
   "execution_count": 23,
   "id": "aa0d7626-26d6-4af9-b97c-f7c38db5df52",
   "metadata": {},
   "outputs": [],
   "source": [
    "find = soup.find_all(\"h3\")\n",
    "find1 = soup.find_all(\"p\")\n",
    "find1 = find1[1:]\n",
    "l1 = []\n",
    "l2 = []\n",
    "for i in range(len(find)):\n",
    "#     print(find[i].text)\n",
    "#     print(find1[i].text)\n",
    "    l1.append(find[i].text)\n",
    "    l2.append(find1[i].text)\n",
    "# print(l2[0])"
   ]
  },
  {
   "cell_type": "markdown",
   "id": "504056c1-3a0a-435c-a864-63311982fab8",
   "metadata": {},
   "source": [
    "### Putting data I collected in Data Frame to save it"
   ]
  },
  {
   "cell_type": "code",
   "execution_count": 50,
   "id": "73556e93-25fd-4fae-9139-f58b56f3cbb1",
   "metadata": {},
   "outputs": [
    {
     "data": {
      "text/html": [
       "<div>\n",
       "<style scoped>\n",
       "    .dataframe tbody tr th:only-of-type {\n",
       "        vertical-align: middle;\n",
       "    }\n",
       "\n",
       "    .dataframe tbody tr th {\n",
       "        vertical-align: top;\n",
       "    }\n",
       "\n",
       "    .dataframe thead th {\n",
       "        text-align: right;\n",
       "    }\n",
       "</style>\n",
       "<table border=\"1\" class=\"dataframe\">\n",
       "  <thead>\n",
       "    <tr style=\"text-align: right;\">\n",
       "      <th></th>\n",
       "      <th>Item</th>\n",
       "      <th>Price</th>\n",
       "    </tr>\n",
       "  </thead>\n",
       "  <tbody>\n",
       "    <tr>\n",
       "      <th>0</th>\n",
       "      <td>جبنة مثلثات سيمبلي من البقرة الضاحكة - 16 مثلث...</td>\n",
       "      <td>36.95 جنية مصرى</td>\n",
       "    </tr>\n",
       "    <tr>\n",
       "      <th>1</th>\n",
       "      <td>جبنة مثلثات طعمة ميلك - 16 قطعة</td>\n",
       "      <td>37.30 جنية مصرى</td>\n",
       "    </tr>\n",
       "    <tr>\n",
       "      <th>2</th>\n",
       "      <td>جبنة مثلثات لافاش كيري - 48 قطعة</td>\n",
       "      <td>174.00 جنية مصرى</td>\n",
       "    </tr>\n",
       "    <tr>\n",
       "      <th>3</th>\n",
       "      <td>جبنة مثلثات لافاش كيرى - 40 قطعة</td>\n",
       "      <td>150.00 جنية مصرى</td>\n",
       "    </tr>\n",
       "    <tr>\n",
       "      <th>4</th>\n",
       "      <td>جبنة مثلثات لافاش كيري - 24 قطعة</td>\n",
       "      <td>82.95 جنية مصرى</td>\n",
       "    </tr>\n",
       "    <tr>\n",
       "      <th>5</th>\n",
       "      <td>جبنة طعمة مثلثات - 32 قطعة</td>\n",
       "      <td>129.00 جنية مصرى</td>\n",
       "    </tr>\n",
       "    <tr>\n",
       "      <th>6</th>\n",
       "      <td>جبنة كيري مثلثات - 8 قطع</td>\n",
       "      <td>33.15 جنية مصرى</td>\n",
       "    </tr>\n",
       "  </tbody>\n",
       "</table>\n",
       "</div>"
      ],
      "text/plain": [
       "                                                Item             Price\n",
       "0  جبنة مثلثات سيمبلي من البقرة الضاحكة - 16 مثلث...   36.95 جنية مصرى\n",
       "1                    جبنة مثلثات طعمة ميلك - 16 قطعة   37.30 جنية مصرى\n",
       "2                   جبنة مثلثات لافاش كيري - 48 قطعة  174.00 جنية مصرى\n",
       "3                   جبنة مثلثات لافاش كيرى - 40 قطعة  150.00 جنية مصرى\n",
       "4                   جبنة مثلثات لافاش كيري - 24 قطعة   82.95 جنية مصرى\n",
       "5                         جبنة طعمة مثلثات - 32 قطعة  129.00 جنية مصرى\n",
       "6                           جبنة كيري مثلثات - 8 قطع   33.15 جنية مصرى"
      ]
     },
     "execution_count": 50,
     "metadata": {},
     "output_type": "execute_result"
    }
   ],
   "source": [
    "import pandas as pd\n",
    "dict4 = {\"Item\" : l1,\"Price\" : l2}\n",
    "df = pd.DataFrame(dict4)#([l1,l2],columns=[\"الصنف\",\"السعر\"])\n",
    "df"
   ]
  },
  {
   "cell_type": "markdown",
   "id": "9292ee7b-2cd0-4315-b830-53ed01119f8e",
   "metadata": {},
   "source": [
    "## Getting HTML code of the {Metro} website"
   ]
  },
  {
   "cell_type": "code",
   "execution_count": 26,
   "id": "7d071ba9-d012-43da-b645-be411159eb8d",
   "metadata": {},
   "outputs": [],
   "source": [
    "url = \"https://www.metro-markets.com/ar/search?key=%D8%AC%D8%A8%D9%86%D8%A9+%D9%85%D8%AB%D9%84%D8%AB%D8%A7%D8%AA\"\n",
    "page = requests.get(url).text\n",
    "soup = BeautifulSoup(page,\"html.parser\")"
   ]
  },
  {
   "cell_type": "markdown",
   "id": "d122ade2-4a40-47cb-8a80-4891e686b957",
   "metadata": {},
   "source": [
    "## Getting Name & Price  of Product using tag & class"
   ]
  },
  {
   "cell_type": "code",
   "execution_count": 36,
   "id": "e9e2b467-56e1-42fc-983a-aa4e6480385b",
   "metadata": {},
   "outputs": [
    {
     "name": "stdout",
     "output_type": "stream",
     "text": [
      "لبنيتا جبنة مثلثات 48 قطعة\n",
      "                            \n",
      " 140.99 جنية\n",
      "[' بريزدنت جبنة مثلثات جامبو 24ق\\n                            ', 'لبنيتا جبنة مثلثات 8 قطعة\\n                            ', 'لبنيتا جبنة مثلثات 48 قطعة\\n                            ']\n",
      "[' 115.99 جنية', ' 27.99 جنية', ' 140.99 جنية']\n"
     ]
    }
   ],
   "source": [
    "find3 = soup.find_all(\"h5\")\n",
    "find2 = soup.find_all(\"p\",class_=\"after\")\n",
    "find3 = find3[1:4]\n",
    "l3 = []\n",
    "l4 = []\n",
    "print(find3[2].text)\n",
    "print(find2[2].text)\n",
    "for i in range(len(find3)):\n",
    "    l3.append(find3[i].text)\n",
    "    l4.append(find2[i].text)\n",
    "print(l3)\n",
    "print(l4)"
   ]
  },
  {
   "cell_type": "markdown",
   "id": "f19c0ccf-5eb0-4de5-a715-eafb76c235a0",
   "metadata": {},
   "source": [
    "### Putting data I collected in Data Frame(1) to save it"
   ]
  },
  {
   "cell_type": "code",
   "execution_count": 37,
   "id": "b093fa50-8885-4dee-bcfb-a12f346197f6",
   "metadata": {},
   "outputs": [
    {
     "data": {
      "text/html": [
       "<div>\n",
       "<style scoped>\n",
       "    .dataframe tbody tr th:only-of-type {\n",
       "        vertical-align: middle;\n",
       "    }\n",
       "\n",
       "    .dataframe tbody tr th {\n",
       "        vertical-align: top;\n",
       "    }\n",
       "\n",
       "    .dataframe thead th {\n",
       "        text-align: right;\n",
       "    }\n",
       "</style>\n",
       "<table border=\"1\" class=\"dataframe\">\n",
       "  <thead>\n",
       "    <tr style=\"text-align: right;\">\n",
       "      <th></th>\n",
       "      <th>Item</th>\n",
       "      <th>Price</th>\n",
       "    </tr>\n",
       "  </thead>\n",
       "  <tbody>\n",
       "    <tr>\n",
       "      <th>0</th>\n",
       "      <td>بريزدنت جبنة مثلثات جامبو 24ق\\n              ...</td>\n",
       "      <td>115.99 جنية</td>\n",
       "    </tr>\n",
       "    <tr>\n",
       "      <th>1</th>\n",
       "      <td>لبنيتا جبنة مثلثات 8 قطعة\\n                   ...</td>\n",
       "      <td>27.99 جنية</td>\n",
       "    </tr>\n",
       "    <tr>\n",
       "      <th>2</th>\n",
       "      <td>لبنيتا جبنة مثلثات 48 قطعة\\n                  ...</td>\n",
       "      <td>140.99 جنية</td>\n",
       "    </tr>\n",
       "  </tbody>\n",
       "</table>\n",
       "</div>"
      ],
      "text/plain": [
       "                                                Item         Price\n",
       "0   بريزدنت جبنة مثلثات جامبو 24ق\\n              ...   115.99 جنية\n",
       "1  لبنيتا جبنة مثلثات 8 قطعة\\n                   ...    27.99 جنية\n",
       "2  لبنيتا جبنة مثلثات 48 قطعة\\n                  ...   140.99 جنية"
      ]
     },
     "execution_count": 37,
     "metadata": {},
     "output_type": "execute_result"
    }
   ],
   "source": [
    "import pandas as pd\n",
    "dict1 = {\"Item\" : l3,\"Price\" : l4}\n",
    "df1 = pd.DataFrame(dict1)#([l1,l2],columns=[\"الصنف\",\"السعر\"])\n",
    "df1"
   ]
  },
  {
   "cell_type": "markdown",
   "id": "0e99b538-c708-438b-9348-d49e488002cd",
   "metadata": {},
   "source": [
    "## Getting HTML code of the {Gomla} website"
   ]
  },
  {
   "cell_type": "code",
   "execution_count": 38,
   "id": "d5001ac8-bfcd-4cc4-b831-3b0f6c53f267",
   "metadata": {},
   "outputs": [],
   "source": [
    "url = \"https://gomla-eg.com/index.php?route=product/search&search=%D8%AC%D8%A8%D9%86%D8%A9%20%D9%86%D8%B3%D8%AA%D9%88&description=true\"\n",
    "page = requests.get(url).text\n",
    "soup = BeautifulSoup(page,\"html.parser\")"
   ]
  },
  {
   "cell_type": "markdown",
   "id": "eada7222-0995-4be1-8411-22699050fb94",
   "metadata": {},
   "source": [
    "## Getting Name & Price  of Product using classes"
   ]
  },
  {
   "cell_type": "code",
   "execution_count": 41,
   "id": "a151ff76-2581-4588-ac62-29064f889056",
   "metadata": {},
   "outputs": [
    {
     "name": "stdout",
     "output_type": "stream",
     "text": [
      "['95.00جنية ', '181.00جنية ', '1,544.00جنية ', '560.00جنية ']\n"
     ]
    }
   ],
   "source": [
    "find4 = soup.find_all(\"div\",class_=\"description\")\n",
    "find4 = find4[3:]\n",
    "find5 = soup.find_all(\"span\",class_=\"price-normal\")\n",
    "find5 = find5[3:7]\n",
    "l5 = []\n",
    "l6 = []\n",
    "for i in range(len(find4)):\n",
    "    l5.append(find4[i].text)\n",
    "    l6.append(find5[i].text)\n",
    "print(l6)"
   ]
  },
  {
   "cell_type": "markdown",
   "id": "b06b724a-8c43-4d27-8498-0095898c29be",
   "metadata": {},
   "source": [
    "### Putting data I collected in Data Frame(2) to save it"
   ]
  },
  {
   "cell_type": "code",
   "execution_count": 46,
   "id": "4e2ea7ad-2396-4842-9f25-08e231d82952",
   "metadata": {},
   "outputs": [
    {
     "data": {
      "text/html": [
       "<div>\n",
       "<style scoped>\n",
       "    .dataframe tbody tr th:only-of-type {\n",
       "        vertical-align: middle;\n",
       "    }\n",
       "\n",
       "    .dataframe tbody tr th {\n",
       "        vertical-align: top;\n",
       "    }\n",
       "\n",
       "    .dataframe thead th {\n",
       "        text-align: right;\n",
       "    }\n",
       "</style>\n",
       "<table border=\"1\" class=\"dataframe\">\n",
       "  <thead>\n",
       "    <tr style=\"text-align: right;\">\n",
       "      <th></th>\n",
       "      <th>Item</th>\n",
       "      <th>Price</th>\n",
       "    </tr>\n",
       "  </thead>\n",
       "  <tbody>\n",
       "    <tr>\n",
       "      <th>0</th>\n",
       "      <td>جبنة كيرى - البركة حادى نستو 2.5كجم   (جردل=1 ...</td>\n",
       "      <td>95.00جنية</td>\n",
       "    </tr>\n",
       "    <tr>\n",
       "      <th>1</th>\n",
       "      <td>جبنة نستو - الصعيدي 8 مثلث   (كرتونة=36 علبة)..</td>\n",
       "      <td>181.00جنية</td>\n",
       "    </tr>\n",
       "    <tr>\n",
       "      <th>2</th>\n",
       "      <td>جبنة نستو بريزيدون 8 مثلث  (كرتونة=72 علبة)..</td>\n",
       "      <td>1,544.00جنية</td>\n",
       "    </tr>\n",
       "    <tr>\n",
       "      <th>3</th>\n",
       "      <td>جبنة نستو طعمة ميلك 16 مثلث   (كرتونة=24 علبة)..</td>\n",
       "      <td>560.00جنية</td>\n",
       "    </tr>\n",
       "  </tbody>\n",
       "</table>\n",
       "</div>"
      ],
      "text/plain": [
       "                                                Item          Price\n",
       "0  جبنة كيرى - البركة حادى نستو 2.5كجم   (جردل=1 ...     95.00جنية \n",
       "1    جبنة نستو - الصعيدي 8 مثلث   (كرتونة=36 علبة)..    181.00جنية \n",
       "2      جبنة نستو بريزيدون 8 مثلث  (كرتونة=72 علبة)..  1,544.00جنية \n",
       "3   جبنة نستو طعمة ميلك 16 مثلث   (كرتونة=24 علبة)..    560.00جنية "
      ]
     },
     "execution_count": 46,
     "metadata": {},
     "output_type": "execute_result"
    }
   ],
   "source": [
    "import pandas as pd\n",
    "dict2 = {\"Item\" : l5,\"Price\" : l6}\n",
    "df2 = pd.DataFrame(dict2)#([l1,l2],columns=[\"الصنف\",\"السعر\"])\n",
    "df2"
   ]
  },
  {
   "cell_type": "markdown",
   "id": "80cac670-4f82-46b0-b930-7021660ac021",
   "metadata": {},
   "source": [
    "## Concatenate 3 Data Frames ==> one Data Frame"
   ]
  },
  {
   "cell_type": "code",
   "execution_count": 55,
   "id": "5711083b-bbaa-489c-a927-70cce83a85de",
   "metadata": {},
   "outputs": [
    {
     "data": {
      "text/html": [
       "<div>\n",
       "<style scoped>\n",
       "    .dataframe tbody tr th:only-of-type {\n",
       "        vertical-align: middle;\n",
       "    }\n",
       "\n",
       "    .dataframe tbody tr th {\n",
       "        vertical-align: top;\n",
       "    }\n",
       "\n",
       "    .dataframe thead th {\n",
       "        text-align: right;\n",
       "    }\n",
       "</style>\n",
       "<table border=\"1\" class=\"dataframe\">\n",
       "  <thead>\n",
       "    <tr style=\"text-align: right;\">\n",
       "      <th></th>\n",
       "      <th>Item</th>\n",
       "      <th>Price</th>\n",
       "    </tr>\n",
       "  </thead>\n",
       "  <tbody>\n",
       "    <tr>\n",
       "      <th>0</th>\n",
       "      <td>جبنة مثلثات سيمبلي من البقرة الضاحكة - 16 مثلث...</td>\n",
       "      <td>36.95 جنية مصرى</td>\n",
       "    </tr>\n",
       "    <tr>\n",
       "      <th>1</th>\n",
       "      <td>جبنة مثلثات طعمة ميلك - 16 قطعة</td>\n",
       "      <td>37.30 جنية مصرى</td>\n",
       "    </tr>\n",
       "    <tr>\n",
       "      <th>2</th>\n",
       "      <td>جبنة مثلثات لافاش كيري - 48 قطعة</td>\n",
       "      <td>174.00 جنية مصرى</td>\n",
       "    </tr>\n",
       "    <tr>\n",
       "      <th>3</th>\n",
       "      <td>جبنة مثلثات لافاش كيرى - 40 قطعة</td>\n",
       "      <td>150.00 جنية مصرى</td>\n",
       "    </tr>\n",
       "    <tr>\n",
       "      <th>4</th>\n",
       "      <td>جبنة مثلثات لافاش كيري - 24 قطعة</td>\n",
       "      <td>82.95 جنية مصرى</td>\n",
       "    </tr>\n",
       "    <tr>\n",
       "      <th>5</th>\n",
       "      <td>جبنة طعمة مثلثات - 32 قطعة</td>\n",
       "      <td>129.00 جنية مصرى</td>\n",
       "    </tr>\n",
       "    <tr>\n",
       "      <th>6</th>\n",
       "      <td>جبنة كيري مثلثات - 8 قطع</td>\n",
       "      <td>33.15 جنية مصرى</td>\n",
       "    </tr>\n",
       "    <tr>\n",
       "      <th>7</th>\n",
       "      <td>بريزدنت جبنة مثلثات جامبو 24ق\\n              ...</td>\n",
       "      <td>115.99 جنية</td>\n",
       "    </tr>\n",
       "    <tr>\n",
       "      <th>8</th>\n",
       "      <td>لبنيتا جبنة مثلثات 8 قطعة\\n                   ...</td>\n",
       "      <td>27.99 جنية</td>\n",
       "    </tr>\n",
       "    <tr>\n",
       "      <th>9</th>\n",
       "      <td>لبنيتا جبنة مثلثات 48 قطعة\\n                  ...</td>\n",
       "      <td>140.99 جنية</td>\n",
       "    </tr>\n",
       "    <tr>\n",
       "      <th>10</th>\n",
       "      <td>جبنة كيرى - البركة حادى نستو 2.5كجم   (جردل=1 ...</td>\n",
       "      <td>95.00جنية</td>\n",
       "    </tr>\n",
       "    <tr>\n",
       "      <th>11</th>\n",
       "      <td>جبنة نستو - الصعيدي 8 مثلث   (كرتونة=36 علبة)..</td>\n",
       "      <td>181.00جنية</td>\n",
       "    </tr>\n",
       "    <tr>\n",
       "      <th>12</th>\n",
       "      <td>جبنة نستو بريزيدون 8 مثلث  (كرتونة=72 علبة)..</td>\n",
       "      <td>1,544.00جنية</td>\n",
       "    </tr>\n",
       "    <tr>\n",
       "      <th>13</th>\n",
       "      <td>جبنة نستو طعمة ميلك 16 مثلث   (كرتونة=24 علبة)..</td>\n",
       "      <td>560.00جنية</td>\n",
       "    </tr>\n",
       "  </tbody>\n",
       "</table>\n",
       "</div>"
      ],
      "text/plain": [
       "                                                 Item             Price\n",
       "0   جبنة مثلثات سيمبلي من البقرة الضاحكة - 16 مثلث...   36.95 جنية مصرى\n",
       "1                     جبنة مثلثات طعمة ميلك - 16 قطعة   37.30 جنية مصرى\n",
       "2                    جبنة مثلثات لافاش كيري - 48 قطعة  174.00 جنية مصرى\n",
       "3                    جبنة مثلثات لافاش كيرى - 40 قطعة  150.00 جنية مصرى\n",
       "4                    جبنة مثلثات لافاش كيري - 24 قطعة   82.95 جنية مصرى\n",
       "5                          جبنة طعمة مثلثات - 32 قطعة  129.00 جنية مصرى\n",
       "6                            جبنة كيري مثلثات - 8 قطع   33.15 جنية مصرى\n",
       "7    بريزدنت جبنة مثلثات جامبو 24ق\\n              ...       115.99 جنية\n",
       "8   لبنيتا جبنة مثلثات 8 قطعة\\n                   ...        27.99 جنية\n",
       "9   لبنيتا جبنة مثلثات 48 قطعة\\n                  ...       140.99 جنية\n",
       "10  جبنة كيرى - البركة حادى نستو 2.5كجم   (جردل=1 ...        95.00جنية \n",
       "11    جبنة نستو - الصعيدي 8 مثلث   (كرتونة=36 علبة)..       181.00جنية \n",
       "12      جبنة نستو بريزيدون 8 مثلث  (كرتونة=72 علبة)..     1,544.00جنية \n",
       "13   جبنة نستو طعمة ميلك 16 مثلث   (كرتونة=24 علبة)..       560.00جنية "
      ]
     },
     "execution_count": 55,
     "metadata": {},
     "output_type": "execute_result"
    }
   ],
   "source": [
    "df3=pd.concat([df,df1,df2],ignore_index=True)\n",
    "df3"
   ]
  },
  {
   "cell_type": "markdown",
   "id": "8b9cb185-34a8-4ce1-b70a-3708ba8f32e1",
   "metadata": {},
   "source": [
    "## Converting Data Frame ==to=> Excel File"
   ]
  },
  {
   "cell_type": "code",
   "execution_count": 56,
   "id": "9b06b21c-f707-46c9-a3fb-17e9259190d9",
   "metadata": {},
   "outputs": [],
   "source": [
    "df3.to_excel('Prices.xlsx', index=False)"
   ]
  }
 ],
 "metadata": {
  "kernelspec": {
   "display_name": "Python 3",
   "language": "python",
   "name": "python3"
  },
  "language_info": {
   "codemirror_mode": {
    "name": "ipython",
    "version": 3
   },
   "file_extension": ".py",
   "mimetype": "text/x-python",
   "name": "python",
   "nbconvert_exporter": "python",
   "pygments_lexer": "ipython3",
   "version": "3.8.8"
  }
 },
 "nbformat": 4,
 "nbformat_minor": 5
}
